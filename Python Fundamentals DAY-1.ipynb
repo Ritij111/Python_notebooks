{
 "cells": [
  {
   "cell_type": "markdown",
   "id": "a14d2c7a",
   "metadata": {},
   "source": [
    "## Why Python\n",
    "\n",
    "- 1 Design Philosophy (simple design easy to learn)\n",
    "- 2 Batteries Included (datatypes comes with some inbuilt funvtions and attributes which makes things easy)\n",
    "- 3 General Purpose (can we used for almost eveything from web dev to Data science and From functional Programming to OOP)\n",
    "- 4 Community/liabraries "
   ]
  },
  {
   "cell_type": "markdown",
   "id": "38d45a63",
   "metadata": {},
   "source": [
    "## Why Python for DS\n",
    "\n",
    "- Easy to learn\n",
    "- Proximity to maths\n",
    "- community"
   ]
  },
  {
   "cell_type": "markdown",
   "id": "2b4837dc",
   "metadata": {},
   "source": [
    "# 1. Python Output"
   ]
  },
  {
   "cell_type": "code",
   "execution_count": 1,
   "id": "a8e7fa5c",
   "metadata": {},
   "outputs": [
    {
     "name": "stdout",
     "output_type": "stream",
     "text": [
      "Hello World\n"
     ]
    }
   ],
   "source": [
    "print(\"Hello World\")"
   ]
  },
  {
   "cell_type": "code",
   "execution_count": 2,
   "id": "2aaa44f0",
   "metadata": {},
   "outputs": [
    {
     "name": "stdout",
     "output_type": "stream",
     "text": [
      "1\n"
     ]
    }
   ],
   "source": [
    "print(1)"
   ]
  },
  {
   "cell_type": "code",
   "execution_count": 3,
   "id": "fdc19c0d",
   "metadata": {},
   "outputs": [
    {
     "name": "stdout",
     "output_type": "stream",
     "text": [
      "1.4\n"
     ]
    }
   ],
   "source": [
    "print(1.4)"
   ]
  },
  {
   "cell_type": "code",
   "execution_count": 4,
   "id": "27b72099",
   "metadata": {},
   "outputs": [
    {
     "name": "stdout",
     "output_type": "stream",
     "text": [
      "False\n"
     ]
    }
   ],
   "source": [
    "print(False)"
   ]
  },
  {
   "cell_type": "code",
   "execution_count": 5,
   "id": "51d56045",
   "metadata": {},
   "outputs": [
    {
     "name": "stdout",
     "output_type": "stream",
     "text": [
      "hello 1 1.4 False\n"
     ]
    }
   ],
   "source": [
    "print(\"hello\",1,1.4,False)"
   ]
  },
  {
   "cell_type": "code",
   "execution_count": 15,
   "id": "ceba4fda",
   "metadata": {
    "scrolled": true
   },
   "outputs": [
    {
     "name": "stdout",
     "output_type": "stream",
     "text": [
      "hello | 1 | 1.4 | False\n"
     ]
    }
   ],
   "source": [
    "# we can change the sep to anything by which we want to make out output seperated\n",
    "\n",
    "print(\"hello\",1,1.4,False,sep=' | ')"
   ]
  },
  {
   "cell_type": "code",
   "execution_count": 13,
   "id": "22fabcdd",
   "metadata": {},
   "outputs": [
    {
     "name": "stdout",
     "output_type": "stream",
     "text": [
      "Hello\n",
      "World\n"
     ]
    }
   ],
   "source": [
    "print(\"Hello\")\n",
    "print(\"World\")"
   ]
  },
  {
   "cell_type": "code",
   "execution_count": 16,
   "id": "1312d207",
   "metadata": {},
   "outputs": [
    {
     "name": "stdout",
     "output_type": "stream",
     "text": [
      "Hello World\n"
     ]
    }
   ],
   "source": [
    "# by default end = \"\\n\" which changes the line but we can chnage it to anything which we want\n",
    "\n",
    "print(\"Hello\",end = \" \")\n",
    "print(\"World\")"
   ]
  },
  {
   "cell_type": "markdown",
   "id": "46a9d24f",
   "metadata": {},
   "source": [
    "# 2. Data Types"
   ]
  },
  {
   "cell_type": "code",
   "execution_count": 17,
   "id": "fb372792",
   "metadata": {},
   "outputs": [
    {
     "name": "stdout",
     "output_type": "stream",
     "text": [
      "1e+308\n"
     ]
    }
   ],
   "source": [
    "# int\n",
    "print(1e308)"
   ]
  },
  {
   "cell_type": "code",
   "execution_count": 7,
   "id": "ca695cbf",
   "metadata": {},
   "outputs": [
    {
     "name": "stdout",
     "output_type": "stream",
     "text": [
      "1.79e+308\n"
     ]
    }
   ],
   "source": [
    "# decimal/float\n",
    "print(1.79e308)"
   ]
  },
  {
   "cell_type": "code",
   "execution_count": 19,
   "id": "41e68283",
   "metadata": {},
   "outputs": [
    {
     "name": "stdout",
     "output_type": "stream",
     "text": [
      "True\n"
     ]
    }
   ],
   "source": [
    "# boolian\n",
    "print(True)"
   ]
  },
  {
   "cell_type": "code",
   "execution_count": 20,
   "id": "bb10cdd1",
   "metadata": {},
   "outputs": [
    {
     "name": "stdout",
     "output_type": "stream",
     "text": [
      "hello world\n"
     ]
    }
   ],
   "source": [
    "# string\n",
    "print(\"hello world\")"
   ]
  },
  {
   "cell_type": "code",
   "execution_count": 27,
   "id": "a996c6bb",
   "metadata": {},
   "outputs": [
    {
     "name": "stdout",
     "output_type": "stream",
     "text": [
      "(3+4j)\n"
     ]
    }
   ],
   "source": [
    "# complex\n",
    "print(3+4j)"
   ]
  },
  {
   "cell_type": "code",
   "execution_count": 28,
   "id": "b1ef955c",
   "metadata": {},
   "outputs": [
    {
     "name": "stdout",
     "output_type": "stream",
     "text": [
      "[1, 2, 'hello', True]\n"
     ]
    }
   ],
   "source": [
    "# list\n",
    "print([1,2,\"hello\",True])"
   ]
  },
  {
   "cell_type": "code",
   "execution_count": 29,
   "id": "f7aaedf5",
   "metadata": {},
   "outputs": [
    {
     "name": "stdout",
     "output_type": "stream",
     "text": [
      "(1, 2, True)\n"
     ]
    }
   ],
   "source": [
    "# tuples\n",
    "print((1,2,True))"
   ]
  },
  {
   "cell_type": "code",
   "execution_count": 34,
   "id": "402e9f25",
   "metadata": {},
   "outputs": [
    {
     "name": "stdout",
     "output_type": "stream",
     "text": [
      "{1, 2, 'True'}\n"
     ]
    }
   ],
   "source": [
    "# sets\n",
    "print({1,2,\"True\",True})"
   ]
  },
  {
   "cell_type": "code",
   "execution_count": 35,
   "id": "69a7c875",
   "metadata": {},
   "outputs": [
    {
     "name": "stdout",
     "output_type": "stream",
     "text": [
      "{'name': 'ritij', 'age': 20}\n"
     ]
    }
   ],
   "source": [
    "# dictionaries\n",
    "print({'name':'ritij','age':20})"
   ]
  },
  {
   "cell_type": "markdown",
   "id": "11eb2787",
   "metadata": {},
   "source": [
    "## type() \n",
    " gives the data type of the input"
   ]
  },
  {
   "cell_type": "code",
   "execution_count": 37,
   "id": "bed658c1",
   "metadata": {},
   "outputs": [
    {
     "data": {
      "text/plain": [
       "complex"
      ]
     },
     "execution_count": 37,
     "metadata": {},
     "output_type": "execute_result"
    }
   ],
   "source": [
    "type(1+2j)"
   ]
  },
  {
   "cell_type": "markdown",
   "id": "54b2e68c",
   "metadata": {},
   "source": [
    "# 3. Variables\n",
    "   containers used to store values for future use \n"
   ]
  },
  {
   "cell_type": "code",
   "execution_count": 39,
   "id": "cd2854c8",
   "metadata": {},
   "outputs": [
    {
     "name": "stdout",
     "output_type": "stream",
     "text": [
      "5\n"
     ]
    }
   ],
   "source": [
    "# Static Vs Dynamic Typing\n",
    "# in dynamic we dont have to declare the var before using it in static we have to first declare the var before use\n",
    "# python supports dynamic typing\n",
    "\n",
    "a=5\n",
    "print(a)"
   ]
  },
  {
   "cell_type": "code",
   "execution_count": 41,
   "id": "cc780f37",
   "metadata": {},
   "outputs": [
    {
     "name": "stdout",
     "output_type": "stream",
     "text": [
      "5\n",
      "ritij\n"
     ]
    }
   ],
   "source": [
    "# Static Vs Dynamic Binding\n",
    "# in static binding once a var is declared with its datatype any other \n",
    "# datatype value can not be stored in it on the other hand in dynamic binding we can \n",
    "# store different datatype value in future\n",
    "\n",
    "a=5\n",
    "print(a)\n",
    "a=\"ritij\"\n",
    "print(a)"
   ]
  },
  {
   "cell_type": "code",
   "execution_count": 43,
   "id": "9274c7e9",
   "metadata": {},
   "outputs": [
    {
     "name": "stdout",
     "output_type": "stream",
     "text": [
      "1 2 3\n",
      "5 5 5\n"
     ]
    }
   ],
   "source": [
    "# stylish declaration techniques\n",
    "\n",
    "a,b,c=1,2,3\n",
    "print(a,b,c)\n",
    "\n",
    "\n",
    "a=b=c=5\n",
    "print(a,b,c)"
   ]
  },
  {
   "cell_type": "markdown",
   "id": "a75255a5",
   "metadata": {},
   "source": [
    "# 4. Keywords & Identifiers"
   ]
  },
  {
   "cell_type": "code",
   "execution_count": 44,
   "id": "b06dd380",
   "metadata": {},
   "outputs": [],
   "source": [
    "# keywords -> reserved words by program to convert high level code to low level these can not be used as var name"
   ]
  },
  {
   "cell_type": "code",
   "execution_count": 46,
   "id": "43de4d95",
   "metadata": {},
   "outputs": [
    {
     "name": "stdout",
     "output_type": "stream",
     "text": [
      "ritij\n",
      "ritij\n"
     ]
    }
   ],
   "source": [
    "# identifiers -> Name used to identify a variable, function, class, module or other objects\n",
    "\n",
    "# Rules for setting identifiers\n",
    "\n",
    "\n",
    "# You can't start with a digit\n",
    "name1 = 'ritij'\n",
    "print(name1)\n",
    "\n",
    "# You cannot use special chars except -> _\n",
    "_ = 'ritij'\n",
    "print(_)\n",
    "\n",
    "# identiers can not be keyword"
   ]
  },
  {
   "cell_type": "markdown",
   "id": "fdb783e4",
   "metadata": {},
   "source": [
    "# 5. User Input"
   ]
  },
  {
   "cell_type": "code",
   "execution_count": 8,
   "id": "b2b4b8f2",
   "metadata": {},
   "outputs": [
    {
     "name": "stdout",
     "output_type": "stream",
     "text": [
      "Enter your name : ritij\n",
      "ritij\n"
     ]
    }
   ],
   "source": [
    "name = input(\"Enter your name : \")\n",
    "print(name)"
   ]
  },
  {
   "cell_type": "markdown",
   "id": "781156ab",
   "metadata": {},
   "source": [
    "# 6. Type Conversion"
   ]
  },
  {
   "cell_type": "code",
   "execution_count": 56,
   "id": "8a0de79b",
   "metadata": {},
   "outputs": [
    {
     "name": "stdout",
     "output_type": "stream",
     "text": [
      "10.6\n",
      "<class 'int'> <class 'float'>\n",
      "4\n",
      "4\n"
     ]
    }
   ],
   "source": [
    "# by default input func only takes the string as an input as sting is a univeral datatype all other datatype values\n",
    "# can be stored as an string so we use type conversion to convert the string into desired data type\n",
    "\n",
    "# Implicit Vs Explicit\n",
    "\n",
    "# Implicit\n",
    "print(5+5.6)\n",
    "print(type(5),type(5.6))\n",
    "\n",
    "\n",
    "# Explicit\n",
    "\n",
    "print(int(4.9))\n",
    "print(int(\"4\"))"
   ]
  },
  {
   "cell_type": "markdown",
   "id": "8393018a",
   "metadata": {},
   "source": [
    "# add 2 numbers"
   ]
  },
  {
   "cell_type": "code",
   "execution_count": 57,
   "id": "1e418d81",
   "metadata": {},
   "outputs": [
    {
     "name": "stdout",
     "output_type": "stream",
     "text": [
      "Enter first num23\n",
      "Enter second num32\n",
      "55\n"
     ]
    }
   ],
   "source": [
    "# take the input from user convert them to int and store them into var\n",
    "\n",
    "f_num = int(input(\"Enter first num\"))\n",
    "s_num = int(input(\"Enter second num\"))\n",
    "\n",
    "# add those var and store them in result\n",
    "\n",
    "result = f_num + s_num\n",
    "\n",
    "# print result\n",
    "\n",
    "print(result)"
   ]
  },
  {
   "cell_type": "markdown",
   "id": "d97246b8",
   "metadata": {},
   "source": [
    "# 7. Literals\n",
    "   - Raw data given in a variable"
   ]
  },
  {
   "cell_type": "code",
   "execution_count": 58,
   "id": "bca413e6",
   "metadata": {},
   "outputs": [
    {
     "name": "stdout",
     "output_type": "stream",
     "text": [
      "10 100 200 300\n",
      "10.5 150.0 0.0015\n",
      "3.14j 3.14 0.0\n"
     ]
    }
   ],
   "source": [
    "a = 0b1010 #Binary Literals\n",
    "b = 100 #Decimal Literal \n",
    "c = 0o310 #Octal Literal\n",
    "d = 0x12c #Hexadecimal Literal\n",
    "\n",
    "#Float Literal\n",
    "float_1 = 10.5 \n",
    "float_2 = 1.5e2 # 1.5 * 10^2\n",
    "float_3 = 1.5e-3 # 1.5 * 10^-3\n",
    "\n",
    "#Complex Literal \n",
    "x = 3.14j\n",
    "\n",
    "print(a, b, c, d)\n",
    "print(float_1, float_2,float_3)\n",
    "print(x, x.imag, x.real)"
   ]
  },
  {
   "cell_type": "code",
   "execution_count": 59,
   "id": "99c663b5",
   "metadata": {},
   "outputs": [
    {
     "name": "stdout",
     "output_type": "stream",
     "text": [
      "This is Python\n",
      "This is Python\n",
      "C\n",
      "This is a multiline string with more than one line code.\n",
      "😀😆🤣\n",
      "raw \\n string\n"
     ]
    }
   ],
   "source": [
    "string = 'This is Python'\n",
    "strings = \"This is Python\"\n",
    "char = \"C\"\n",
    "multiline_str = \"\"\"This is a multiline string with more than one line code.\"\"\"\n",
    "unicode = u\"\\U0001f600\\U0001F606\\U0001F923\"\n",
    "raw_str = r\"raw \\n string\"\n",
    "\n",
    "print(string)\n",
    "print(strings)\n",
    "print(char)\n",
    "print(multiline_str)\n",
    "print(unicode)\n",
    "print(raw_str)"
   ]
  },
  {
   "cell_type": "code",
   "execution_count": 60,
   "id": "10b2c957",
   "metadata": {},
   "outputs": [
    {
     "name": "stdout",
     "output_type": "stream",
     "text": [
      "a: 5\n",
      "b: 10\n"
     ]
    }
   ],
   "source": [
    "a = True + 4\n",
    "b = False + 10\n",
    "\n",
    "print(\"a:\", a)\n",
    "print(\"b:\", b)"
   ]
  },
  {
   "cell_type": "code",
   "execution_count": 61,
   "id": "d81dc17d",
   "metadata": {},
   "outputs": [
    {
     "name": "stdout",
     "output_type": "stream",
     "text": [
      "Program exe\n"
     ]
    }
   ],
   "source": [
    "k = None\n",
    "a = 5\n",
    "b = 6\n",
    "print('Program exe')"
   ]
  }
 ],
 "metadata": {
  "kernelspec": {
   "display_name": "Python 3 (ipykernel)",
   "language": "python",
   "name": "python3"
  },
  "language_info": {
   "codemirror_mode": {
    "name": "ipython",
    "version": 3
   },
   "file_extension": ".py",
   "mimetype": "text/x-python",
   "name": "python",
   "nbconvert_exporter": "python",
   "pygments_lexer": "ipython3",
   "version": "3.9.12"
  }
 },
 "nbformat": 4,
 "nbformat_minor": 5
}
