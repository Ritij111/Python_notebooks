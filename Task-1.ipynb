{
 "cells": [
  {
   "cell_type": "markdown",
   "id": "28cd6b82",
   "metadata": {},
   "source": [
    "### Q1 :- Print the given strings as per stated format.\n",
    "\n",
    "**Given strings**: \n",
    "```\n",
    "\"Data\" \"Science\" \"Mentorship\" \"Program\" \n",
    "\"By\" \"CampusX\"\n",
    "```\n",
    "**Output**: \n",
    "``` \n",
    "Data-Science-Mentorship-Program-started-By-CampusX\n",
    "```\n",
    "\n",
    "Concept- [Seperator and End]"
   ]
  },
  {
   "cell_type": "code",
   "execution_count": 11,
   "id": "bbe673e5",
   "metadata": {},
   "outputs": [
    {
     "name": "stdout",
     "output_type": "stream",
     "text": [
      "Data-Science-Mentorship-Program-started-By-CampusX\n"
     ]
    }
   ],
   "source": [
    "print(\"Data\", \"Science\", \"Mentorship\", \"Program\",end =\"-\",sep=\"-\" )\n",
    "print(\"started\",end=\"-\")\n",
    "print(\"By\", \"CampusX\",sep = \"-\")"
   ]
  },
  {
   "cell_type": "markdown",
   "id": "2f335035",
   "metadata": {},
   "source": [
    "### Q2:- Write a program that will convert celsius value to fahrenheit."
   ]
  },
  {
   "cell_type": "code",
   "execution_count": 2,
   "id": "7ddfb465",
   "metadata": {},
   "outputs": [
    {
     "name": "stdout",
     "output_type": "stream",
     "text": [
      "enter temp in celsius : 22\n",
      "value of temp in fahrenheit is :  71.6\n"
     ]
    }
   ],
   "source": [
    "# take input in celsius and store it in some var c\n",
    "\n",
    "C = int(input(\"enter temp in celsius : \"))\n",
    "\n",
    "# apply the formula of celcius to fahrenheit and store the value in var f\n",
    "\n",
    "F = (C * 9/5) + 32.\n",
    "\n",
    "# print f\n",
    "\n",
    "print(\"value of temp in fahrenheit is : \",F)"
   ]
  },
  {
   "cell_type": "markdown",
   "id": "d004847f",
   "metadata": {},
   "source": [
    "### Q3:- Take 2 numbers as input from the user.Write a program to swap the numbers without using any special python syntax."
   ]
  },
  {
   "cell_type": "code",
   "execution_count": 12,
   "id": "4e36d567",
   "metadata": {},
   "outputs": [
    {
     "name": "stdout",
     "output_type": "stream",
     "text": [
      "enter first num : 2\n",
      "enter second num : 3\n",
      "num_1 is :  3\n",
      "num_2 is :  2\n"
     ]
    }
   ],
   "source": [
    "# take the 2 numbers input from the user\n",
    "\n",
    "num_1 = input(\"enter first num : \")\n",
    "num_2 = input(\"enter second num : \")\n",
    "\n",
    "num = int(num_1 + num_2)\n",
    "\n",
    "num_1 = num%10\n",
    "num_2 = num//10\n",
    "\n",
    "print(\"num_1 is : \",num_1)\n",
    "print(\"num_2 is : \",num_2)"
   ]
  },
  {
   "cell_type": "code",
   "execution_count": 13,
   "id": "52ae5b77",
   "metadata": {},
   "outputs": [
    {
     "name": "stdout",
     "output_type": "stream",
     "text": [
      "enter first num : 2\n",
      "enter second num : 3\n",
      "3 2\n"
     ]
    }
   ],
   "source": [
    "# alternate\n",
    "\n",
    "num_1 = input(\"enter first num : \")\n",
    "num_2 = input(\"enter second num : \")\n",
    "\n",
    "temp = num_1\n",
    "num_1 = num_2\n",
    "num_2 = temp\n",
    "\n",
    "print(num_1,num_2)"
   ]
  },
  {
   "cell_type": "markdown",
   "id": "988d33f4",
   "metadata": {},
   "source": [
    "### Q4:- Write a program to find the euclidean distance between two coordinates.Take both the coordinates from the user as input."
   ]
  },
  {
   "cell_type": "code",
   "execution_count": 8,
   "id": "463d6fa9",
   "metadata": {},
   "outputs": [
    {
     "name": "stdout",
     "output_type": "stream",
     "text": [
      "enter x for first coordinate : -7\n",
      "enter y for first coordinate : -4\n",
      "enter x for second coordinate : 17\n",
      "enter y for second coordinate : 6\n",
      "distance b/w 2 points in :  26.0\n"
     ]
    }
   ],
   "source": [
    "# taking the coordinates as an input from the user\n",
    "\n",
    "x1 = int(input(\"enter x for first coordinate : \"))\n",
    "y1 = int(input(\"enter y for first coordinate : \"))\n",
    "x2 = int(input(\"enter x for second coordinate : \"))\n",
    "y2 = int(input(\"enter y for second coordinate : \"))\n",
    "\n",
    "# applying euclidean distance fromula and storing the value in distance\n",
    "\n",
    "Distance = ((x1-x2)**2 + (y1-y2)**2)**(.5)\n",
    "\n",
    "# print result\n",
    "\n",
    "print(\"distance b/w 2 points in : \",Distance)"
   ]
  },
  {
   "cell_type": "markdown",
   "id": "5e4207c6",
   "metadata": {},
   "source": [
    "### Q5:- Write a program to find the simple interest when the value of principle,rate of interest and time period is provided by the user."
   ]
  },
  {
   "cell_type": "code",
   "execution_count": 15,
   "id": "4d86abd7",
   "metadata": {},
   "outputs": [
    {
     "name": "stdout",
     "output_type": "stream",
     "text": [
      "enter the value of principle : 2000\n",
      "enter the value of rate of interest : 2\n",
      "enter the value of time period : 2\n",
      "simple interest :  80.0\n"
     ]
    }
   ],
   "source": [
    "# taking the value of principle,rate of interest and time period as an input from the user and storing them in variables\n",
    "\n",
    "p = float(input(\"enter the value of principle : \"))\n",
    "r = float(input(\"enter the value of rate of interest : \"))\n",
    "t = float(input(\"enter the value of time period : \"))\n",
    "\n",
    "# applying the formula for simple interest and storing the result\n",
    "\n",
    "simple_interest = (p*r*t)/100\n",
    "\n",
    "# printing the final result\n",
    "\n",
    "print(\"simple interest : \",simple_interest)"
   ]
  },
  {
   "cell_type": "markdown",
   "id": "741708f7",
   "metadata": {},
   "source": [
    "### Q6:- Write a program that will tell the number of dogs and chicken are there when the user will provide the value of total heads and legs.\n",
    "\n",
    "For example:\n",
    "Input:\n",
    "heads -> 4\n",
    "legs -> 12\n",
    "<br>\n",
    "Output:\n",
    "dogs -> 2\n",
    "chicken -> 2\n"
   ]
  },
  {
   "cell_type": "code",
   "execution_count": 30,
   "id": "ce3c4847",
   "metadata": {},
   "outputs": [
    {
     "name": "stdout",
     "output_type": "stream",
     "text": [
      "enter the no of legs : 12\n",
      "enter the no of heads : 4\n",
      "no of chickens are :  2.0\n",
      "no of dogs are :  2.0\n"
     ]
    }
   ],
   "source": [
    "# taking inputs of number of legs and heads from user and store them in variable\n",
    "\n",
    "l = int(input(\"enter the no of legs : \"))\n",
    "h = int(input(\"enter the no of heads : \"))\n",
    "\n",
    "# built the linear equations and solve them\n",
    "# assuming d as no of dogs and c as no of chickens\n",
    "\n",
    "c + d == h      # ---> equ 1\n",
    "2*c + 4*d == l   #---> equ 2\n",
    "\n",
    "# print the result\n",
    "\n",
    "print(\"no of chickens are : \",c)\n",
    "print(\"no of dogs are : \",d)"
   ]
  },
  {
   "cell_type": "markdown",
   "id": "7384b35e",
   "metadata": {},
   "source": [
    "### Q7:- Write a program to find the sum of squares of first n natural numbers where n will be provided by the user."
   ]
  },
  {
   "cell_type": "code",
   "execution_count": 32,
   "id": "7ced7fd9",
   "metadata": {},
   "outputs": [
    {
     "name": "stdout",
     "output_type": "stream",
     "text": [
      "enter the no of natural nos : 11\n",
      "sum of the squares of natural nos is :  506.0\n"
     ]
    }
   ],
   "source": [
    "# taking the no of natural nos as an input from the user and storing it as a var\n",
    "\n",
    "n = int(input(\"enter the no of natural nos : \"))\n",
    "\n",
    "# performing the formula of sum [n(n+1)(2n+1)] / 6.\n",
    "\n",
    "result = (n*(n+1)*(2*n+1))/6\n",
    "\n",
    "# printing the sum \n",
    "\n",
    "print(\"sum of the squares of natural nos is : \", result)"
   ]
  },
  {
   "cell_type": "markdown",
   "id": "a631ed49",
   "metadata": {},
   "source": [
    "### Q8:- Given the first 2 terms of an Arithmetic Series.Find the Nth term of the series. Assume all inputs are provided by the user."
   ]
  },
  {
   "cell_type": "code",
   "execution_count": 34,
   "id": "570b19f6",
   "metadata": {},
   "outputs": [
    {
     "name": "stdout",
     "output_type": "stream",
     "text": [
      "enter the first num : 1\n",
      "enter the second num : 2\n",
      "eneter which tern you want : 50\n",
      "50\n"
     ]
    }
   ],
   "source": [
    "# taking the first 2 nos and the nth no as an input from the user and storing it as var \n",
    "\n",
    "a1 = int(input(\"enter the first num : \"))\n",
    "a2 = int(input(\"enter the second num : \"))\n",
    "n = int(input(\"eneter which tern you want : \"))\n",
    "\n",
    "# calculting the d (common diff) and applying the formula for nth term and storing the result in some var\n",
    "\n",
    "d = a2-a1\n",
    "an = a1 + (n-1)*d\n",
    "\n",
    "# printing the result\n",
    "\n",
    "print(an)"
   ]
  },
  {
   "cell_type": "markdown",
   "id": "dfabfd36",
   "metadata": {},
   "source": [
    "### Q9:- Given 2 fractions, find the sum of those 2 fractions.Take the numerator and denominator values of the fractions from the user."
   ]
  },
  {
   "cell_type": "code",
   "execution_count": 36,
   "id": "d933ed3f",
   "metadata": {},
   "outputs": [
    {
     "name": "stdout",
     "output_type": "stream",
     "text": [
      "enter the num of first num : 2\n",
      "enter the den of first num : 3\n",
      "enter the num of second num : 3\n",
      "enter the den of second num : 2\n",
      "13/6\n"
     ]
    }
   ],
   "source": [
    "# taking the values of fractions as an input from the user and storing them as variables\n",
    "\n",
    "n1 = int(input(\"enter the num of first num : \"))\n",
    "d1 = int(input(\"enter the den of first num : \"))\n",
    "n2 = int(input(\"enter the num of second num : \"))\n",
    "d2 = int(input(\"enter the den of second num : \"))\n",
    "\n",
    "# performing the calculations and getting the num and den values of result\n",
    "\n",
    "num = n1*d2 + n2*d1\n",
    "den = d1*d2\n",
    "\n",
    "# printing the result in fraction (num/den) format\n",
    "\n",
    "print(num,den,sep=\"/\")"
   ]
  },
  {
   "cell_type": "markdown",
   "id": "b1608732",
   "metadata": {},
   "source": [
    "### Q10:- Given the height, width and breadth of a milk tank, you have to find out how many glasses of milk can be obtained? Assume all the inputs are provided by the user.\n",
    "\n",
    "\n",
    "\n",
    "Input:<br>\n",
    "Dimensions of the milk tank<br>\n",
    "H = 20cm, L = 20cm, B = 20cm\n",
    "<br><br>\n",
    "Dimensions of the glass<br>\n",
    "h = 3cm, r = 1cm\n"
   ]
  },
  {
   "cell_type": "code",
   "execution_count": 38,
   "id": "55d8ac1f",
   "metadata": {},
   "outputs": [
    {
     "name": "stdout",
     "output_type": "stream",
     "text": [
      "enter the height of tank : 10\n",
      "enter the lenght of tank : 19\n",
      "enter the breadth of tank : 10\n",
      "enter the height of glass : 5\n",
      "enter the radius of glass : 2\n",
      "30.0\n"
     ]
    }
   ],
   "source": [
    "# getting the inputs of dimensions from user\n",
    "\n",
    "H = float(input(\"enter the height of tank : \"))\n",
    "L = float(input(\"enter the lenght of tank : \"))\n",
    "B = float(input(\"enter the breadth of tank : \"))\n",
    "h = float(input(\"enter the height of glass : \"))\n",
    "r = float(input(\"enter the radius of glass : \"))\n",
    "\n",
    "# calculating the vol of tank and glass\n",
    "\n",
    "V_tank = H*L*B\n",
    "V_glass = 3.14*(r**2)*h\n",
    "\n",
    "# performing the int div to get the no of glasses of milk tank comntains\n",
    "\n",
    "print(V_tank//V_glass)"
   ]
  },
  {
   "cell_type": "code",
   "execution_count": null,
   "id": "3dd182a6",
   "metadata": {},
   "outputs": [],
   "source": []
  }
 ],
 "metadata": {
  "kernelspec": {
   "display_name": "Python 3 (ipykernel)",
   "language": "python",
   "name": "python3"
  },
  "language_info": {
   "codemirror_mode": {
    "name": "ipython",
    "version": 3
   },
   "file_extension": ".py",
   "mimetype": "text/x-python",
   "name": "python",
   "nbconvert_exporter": "python",
   "pygments_lexer": "ipython3",
   "version": "3.9.12"
  }
 },
 "nbformat": 4,
 "nbformat_minor": 5
}
